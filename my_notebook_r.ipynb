{
 "cells": [
  {
   "cell_type": "code",
   "execution_count": 7,
   "id": "acd3ecda-8443-4411-92d4-b83e32595402",
   "metadata": {},
   "outputs": [
    {
     "name": "stderr",
     "output_type": "stream",
     "text": [
      "\n",
      "Dołączanie pakietu: 'data.table'\n",
      "\n",
      "\n",
      "Następujące obiekty zostały zakryte z 'package:dplyr':\n",
      "\n",
      "    between, first, last\n",
      "\n",
      "\n"
     ]
    }
   ],
   "source": [
    "library(dplyr)\n",
    "library(data.table)"
   ]
  },
  {
   "cell_type": "code",
   "execution_count": 8,
   "id": "f2aa529e-6e87-48e5-9eb1-7ebdffaae8d3",
   "metadata": {},
   "outputs": [],
   "source": [
    "carSpeeds <- fread(file = 'data/username.csv' )"
   ]
  },
  {
   "cell_type": "code",
   "execution_count": 9,
   "id": "4eeadb6f-3f64-489a-90c9-ee4011204075",
   "metadata": {},
   "outputs": [
    {
     "data": {
      "text/html": [
       "<table class=\"dataframe\">\n",
       "<caption>A data.table: 5 × 4</caption>\n",
       "<thead>\n",
       "\t<tr><th scope=col>Username</th><th scope=col>Identifier</th><th scope=col>First name</th><th scope=col>Last name</th></tr>\n",
       "\t<tr><th scope=col>&lt;chr&gt;</th><th scope=col>&lt;int&gt;</th><th scope=col>&lt;chr&gt;</th><th scope=col>&lt;chr&gt;</th></tr>\n",
       "</thead>\n",
       "<tbody>\n",
       "\t<tr><td>booker12 </td><td>9012</td><td>Rachel</td><td>Booker </td></tr>\n",
       "\t<tr><td>grey07   </td><td>2070</td><td>Laura </td><td>Grey   </td></tr>\n",
       "\t<tr><td>johnson81</td><td>4081</td><td>Craig </td><td>Johnson</td></tr>\n",
       "\t<tr><td>jenkins46</td><td>9346</td><td>Mary  </td><td>Jenkins</td></tr>\n",
       "\t<tr><td>smith79  </td><td>5079</td><td>Jamie </td><td>Smith  </td></tr>\n",
       "</tbody>\n",
       "</table>\n"
      ],
      "text/latex": [
       "A data.table: 5 × 4\n",
       "\\begin{tabular}{llll}\n",
       " Username & Identifier & First name & Last name\\\\\n",
       " <chr> & <int> & <chr> & <chr>\\\\\n",
       "\\hline\n",
       "\t booker12  & 9012 & Rachel & Booker \\\\\n",
       "\t grey07    & 2070 & Laura  & Grey   \\\\\n",
       "\t johnson81 & 4081 & Craig  & Johnson\\\\\n",
       "\t jenkins46 & 9346 & Mary   & Jenkins\\\\\n",
       "\t smith79   & 5079 & Jamie  & Smith  \\\\\n",
       "\\end{tabular}\n"
      ],
      "text/markdown": [
       "\n",
       "A data.table: 5 × 4\n",
       "\n",
       "| Username &lt;chr&gt; | Identifier &lt;int&gt; | First name &lt;chr&gt; | Last name &lt;chr&gt; |\n",
       "|---|---|---|---|\n",
       "| booker12  | 9012 | Rachel | Booker  |\n",
       "| grey07    | 2070 | Laura  | Grey    |\n",
       "| johnson81 | 4081 | Craig  | Johnson |\n",
       "| jenkins46 | 9346 | Mary   | Jenkins |\n",
       "| smith79   | 5079 | Jamie  | Smith   |\n",
       "\n"
      ],
      "text/plain": [
       "  Username  Identifier First name Last name\n",
       "1 booker12  9012       Rachel     Booker   \n",
       "2 grey07    2070       Laura      Grey     \n",
       "3 johnson81 4081       Craig      Johnson  \n",
       "4 jenkins46 9346       Mary       Jenkins  \n",
       "5 smith79   5079       Jamie      Smith    "
      ]
     },
     "metadata": {},
     "output_type": "display_data"
    }
   ],
   "source": [
    "head(carSpeeds)"
   ]
  }
 ],
 "metadata": {
  "kernelspec": {
   "display_name": "R",
   "language": "R",
   "name": "ir"
  },
  "language_info": {
   "codemirror_mode": "r",
   "file_extension": ".r",
   "mimetype": "text/x-r-source",
   "name": "R",
   "pygments_lexer": "r",
   "version": "4.1.3"
  }
 },
 "nbformat": 4,
 "nbformat_minor": 5
}
