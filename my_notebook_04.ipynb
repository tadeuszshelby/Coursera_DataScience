{
 "cells": [
  {
   "cell_type": "markdown",
   "id": "d0275330-138f-4f4e-9fa1-bb4dfc3c7359",
   "metadata": {},
   "source": [
    "#### <font color=#0fb503>Exercise 2 - Create a markdown cell with the title of the notebook. (1 pt)</font>\n",
    "\n",
    "# Peer-graded assigment about tools for data science"
   ]
  },
  {
   "cell_type": "markdown",
   "id": "4ee3dab2-4938-48f1-b628-7b209ad16956",
   "metadata": {},
   "source": [
    "#### <font color=#0fb503>Exercise 3 - Create a markdown cell for an introduction. (1 pt)</font>\n",
    "Add some text "
   ]
  },
  {
   "cell_type": "markdown",
   "id": "8cdbd276-6813-49a3-841a-ebf87c8c531c",
   "metadata": {
    "tags": []
   },
   "source": [
    "#### <font color=#0fb503>Exercise 4 - Create a markdown cell to list data science languages. (3 pts)</font>\n",
    "List data science languages: \n",
    "1. Python\n",
    "2. SQL (Structured Query Language)\n",
    "3. R \n",
    "4. Julia\n",
    "5. C++\n",
    "6. Scala\n",
    "7. Java"
   ]
  },
  {
   "cell_type": "markdown",
   "id": "589c7588-5974-4aa9-bb8c-0ba2c2c069de",
   "metadata": {
    "jp-MarkdownHeadingCollapsed": true,
    "tags": []
   },
   "source": [
    "#### <font color=#0fb503>Exercise 5 - Create a markdown cell to list data science libraries. (3 pts)</font>\n",
    "Top 10 Python Libraries for Data Science:\n",
    "1. TensorFlow\n",
    "2. NumPy\n",
    "3. SciPy \n",
    "4. Pandas\n",
    "5. Matplotlib \n",
    "6. Keras\n",
    "7. SciKit-Learn\n",
    "8. PyTorch\n",
    "9. Scrapy\n",
    "10. BeautifulSoup"
   ]
  },
  {
   "cell_type": "markdown",
   "id": "a1019a1c-08f0-40ca-bd69-5cbec6eff136",
   "metadata": {
    "tags": []
   },
   "source": [
    "#### <font color=#0fb503>Exercise 5 - Create a markdown cell to list data science libraries. (3 pts)</font>\n",
    "Top 10 Python Libraries for Data Science:\n",
    "1. TensorFlow\n",
    "2. NumPy\n",
    "3. SciPy \n",
    "4. Pandas\n",
    "5. Matplotlib \n",
    "6. Keras\n",
    "7. SciKit-Learn\n",
    "8. PyTorch\n",
    "9. Scrapy\n",
    "10. BeautifulSoup"
   ]
  },
  {
   "cell_type": "markdown",
   "id": "9695a0b6-563d-41ec-a319-e4bf9403946d",
   "metadata": {
    "jp-MarkdownHeadingCollapsed": true,
    "tags": []
   },
   "source": [
    "#### <font color=#0fb503>Exercise 6 - Create a markdown cell with a table of Data Science tools. (3 pts)</font>\n",
    "Index |Category|Data Science Tool\n",
    ":-----|:-----| :----- \n",
    "1.|Data Management|MySQL\n",
    "2.|Data Management|MongoDB\n",
    "3.|Data Management|Hadoop\n",
    "4.|Data Management|PostgreSQL\n",
    "5.|Data Integration and Transformation|Apache Airflow\n",
    "6.|Data Integration and Transformation|Apache kafka\n",
    "7.|Data Integration and Transformation|Spark\n",
    "8.|Data Integration and Transformation|Kubeflow\n",
    "9.|Data Visualization|Hue\n",
    "10.|Data Visualization|Kibana\n",
    "11.|Data Visualization|Superset\n",
    "12.|Data Visualization|Power BI\n",
    "13.|Data Visualization|Tableau\n",
    "14.|Data Visualization|Qlik\n",
    "15.|Model Deployment|PredicitionIO\n",
    "16.|Model Deployment|Seldon\n",
    "17.|Model Deployment|TensorFlow\n",
    "18.|Model Monitoring and Assessment|ModelDB\n",
    "19.|Model Monitoring and Assessment|Prometheus\n",
    "20.|Model Monitoring and Assessment|IBM AI Explainability 360\n",
    "21.|Code Asset Management|Github\n",
    "22.|Code Asset Management|Git\n",
    "23.|Code Asset Management|Bitbucket\n",
    "24.|Code Asset Management|GitLab\n",
    "25.|Data Asset Management|Apache Atlas\n",
    "26.|Data Asset Management|Kylo\n",
    "27.|Data Integretion and Transformation|Talend\n",
    "28.|Data Integretion and Transformation|Informatica\n",
    "29.|Data Integretion and Transformation|IBM InfoSphere DataStage\n",
    "30.|Model Building|SPSS\n",
    "31.|Model Building|SAS"
   ]
  }
 ],
 "metadata": {
  "kernelspec": {
   "display_name": "Python 3 (ipykernel)",
   "language": "python",
   "name": "python3"
  },
  "language_info": {
   "codemirror_mode": {
    "name": "ipython",
    "version": 3
   },
   "file_extension": ".py",
   "mimetype": "text/x-python",
   "name": "python",
   "nbconvert_exporter": "python",
   "pygments_lexer": "ipython3",
   "version": "3.9.12"
  }
 },
 "nbformat": 4,
 "nbformat_minor": 5
}
