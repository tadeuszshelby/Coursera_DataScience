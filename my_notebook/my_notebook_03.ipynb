{
 "cells": [
  {
   "cell_type": "markdown",
   "id": "78ef795e-ec4d-425e-97f4-03b4f5f5d299",
   "metadata": {
    "tags": []
   },
   "source": [
    "# My Jupyter Notebook on IBM Watson Studio"
   ]
  },
  {
   "cell_type": "markdown",
   "id": "660e3bb8-7a45-4373-8d05-89234b5dff0d",
   "metadata": {},
   "source": [
    "__Krzysztof B.__</br>\n",
    "Business Intelligence Developer"
   ]
  },
  {
   "cell_type": "markdown",
   "id": "ae49030b-3513-4146-9edb-97008060b766",
   "metadata": {},
   "source": [
    "_I am interested in data science because I am curently working in similar profession as Business Intelligence Specialist. I am non-stop developing myself in this area and would like to get certifications in this area as well._"
   ]
  },
  {
   "cell_type": "markdown",
   "id": "6d639d5a-c9d8-4ec6-924c-359dedb725b1",
   "metadata": {},
   "source": [
    "### Python Function Arguments"
   ]
  },
  {
   "cell_type": "code",
   "execution_count": 8,
   "id": "95fe4641-0afc-42fe-a427-18ccb2a70395",
   "metadata": {},
   "outputs": [
    {
     "name": "stdout",
     "output_type": "stream",
     "text": [
      "Sum:  9\n"
     ]
    }
   ],
   "source": [
    "# function with two arguments\n",
    "def add_numbers(num1, num2):\n",
    "    sum = num1 + num2\n",
    "    print(\"Sum: \",sum)\n",
    "    \n",
    "# function call with two values\n",
    "add_numbers(5, 4)"
   ]
  },
  {
   "cell_type": "markdown",
   "id": "26cf9b00-1a66-4b27-ac1e-7e69433ed80e",
   "metadata": {},
   "source": [
    "For the benefit of the assigment I made a list of courses with links IBM Data Science Professional Certificate:\n",
    "1. [Course 1 - What is Data Science?](https://www.coursera.org/learn/what-is-datascience?specialization=ibm-data-science)\n",
    "2. [Course 2 - Tools for Data Science](https://www.coursera.org/learn/open-source-tools-for-data-science?specialization=ibm-data-science)\n",
    "3. [Course 3 - Data Science Methology](https://www.coursera.org/learn/data-science-methodology?specialization=ibm-data-science)\n",
    "4. [Course 4 - Python for Data Science, AI & Development](https://www.coursera.org/learn/python-for-applied-data-science-ai?specialization=ibm-data-science)\n",
    "5. [Course 5 - Python Project for Data Science](https://www.coursera.org/learn/python-project-for-data-science?specialization=ibm-data-science)\n",
    "6. [Course 6 - Database and SQL for Data Science with Python](https://www.coursera.org/learn/sql-data-science?specialization=ibm-data-science)\n",
    "7. [Course 7 - Data Analysis with Python](https://www.coursera.org/learn/data-analysis-with-python?specialization=ibm-data-science)\n",
    "8. [Course 8 - Data Visualization with Python](https://www.coursera.org/learn/python-for-data-visualization?specialization=ibm-data-science)\n",
    "9. [Course 9 - Machine Learning with Python](https://www.coursera.org/learn/machine-learning-with-python?specialization=ibm-data-science)\n",
    "10. [Course 10 - Applied Data Science Capstone](https://www.coursera.org/learn/applied-data-science-capstone?specialization=ibm-data-science)\n",
    "\n",
    "Below are the quotes:\n",
    "> Blockquotes are very handy in email to emulate reply text.\n",
    "> This line is part of the same quote.\n",
    "\n",
    "Quote break.\n",
    "\n",
    "> This is a very long line that will still be quoted properly when it wraps. Oh boy let's keep writing to make sure this is long enough to actually wrap for everyone. Oh, you can *put* **Markdown** into a blockquote. "
   ]
  }
 ],
 "metadata": {
  "kernelspec": {
   "display_name": "Python 3 (ipykernel)",
   "language": "python",
   "name": "python3"
  },
  "language_info": {
   "codemirror_mode": {
    "name": "ipython",
    "version": 3
   },
   "file_extension": ".py",
   "mimetype": "text/x-python",
   "name": "python",
   "nbconvert_exporter": "python",
   "pygments_lexer": "ipython3",
   "version": "3.9.12"
  }
 },
 "nbformat": 4,
 "nbformat_minor": 5
}
