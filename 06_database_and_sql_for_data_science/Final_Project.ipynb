{
 "cells": [
  {
   "cell_type": "markdown",
   "id": "4fa6cde1-acb4-4371-90a3-0ac5c3efe44a",
   "metadata": {},
   "source": [
    "<center>\n",
    "    <img src=\"https://cf-courses-data.s3.us.cloud-object-storage.appdomain.cloud/IBMDeveloperSkillsNetwork-DB0201EN-SkillsNetwork/labs/FinalModule_Coursera_V5/images/SN_web_lightmode.png\" width=\"300\" alt=\"cognitiveclass.ai logo\">\n",
    "</center>\n",
    "\n",
    "<h1 align=center><font size = 5>Final Project: Advance SQL Techniques</font></h1>"
   ]
  },
  {
   "cell_type": "markdown",
   "id": "d7e85cc1-db90-4aa6-8b92-f312d31bb07f",
   "metadata": {},
   "source": [
    "![title](https://user-images.githubusercontent.com/7065401/52071927-c1cd7100-2562-11e9-908a-dde91ba14e59.png)"
   ]
  },
  {
   "cell_type": "code",
   "execution_count": 10,
   "id": "68803f80-c2a8-492d-a55a-86ae5daa953d",
   "metadata": {},
   "outputs": [],
   "source": [
    "import ibm_db\n",
    "import pandas\n",
    "import ibm_db_dbi"
   ]
  },
  {
   "cell_type": "code",
   "execution_count": 11,
   "id": "60deadc3-653b-4211-b4f6-a8d56d9c96b0",
   "metadata": {},
   "outputs": [],
   "source": [
    "#connection for pandas\n",
    "pconn = ibm_db_dbi.Connection(conn)"
   ]
  },
  {
   "cell_type": "code",
   "execution_count": 4,
   "id": "04d5b0fd-5d0f-4ddd-bdca-d780d0619108",
   "metadata": {},
   "outputs": [],
   "source": [
    "#Replace the placeholder values with your actual Db2 hostname, username, and password:\n",
    "## add credentials"
   ]
  },
  {
   "cell_type": "code",
   "execution_count": 14,
   "id": "4441ddff-f482-41a2-b674-695a1110b7d2",
   "metadata": {},
   "outputs": [
    {
     "name": "stdout",
     "output_type": "stream",
     "text": [
      "Connected to database:  bludb as user:  byx91326 on host:  21fecfd8-47b7-4937-840d-d791d0218660.bs2io90l08kqb1od8lcg.databases.appdomain.cloud\n"
     ]
    }
   ],
   "source": [
    "#Create database connection\n",
    "#DO NOT MODIFY THIS CELL. Just RUN it with Shift + Enter\n",
    "dsn = (\n",
    "    \"DRIVER={0};\"\n",
    "    \"DATABASE={1};\"\n",
    "    \"HOSTNAME={2};\"\n",
    "    \"PORT={3};\"\n",
    "    \"PROTOCOL={4};\"\n",
    "    \"UID={5};\"\n",
    "    \"PWD={6};\"\n",
    "    \"SECURITY={7};\").format(dsn_driver, dsn_database, dsn_hostname, dsn_port, dsn_protocol, dsn_uid, dsn_pwd,dsn_security)\n",
    "\n",
    "try:\n",
    "    conn = ibm_db.connect(dsn, \"\", \"\")\n",
    "    print (\"Connected to database: \", dsn_database, \"as user: \", dsn_uid, \"on host: \", dsn_hostname)\n",
    "\n",
    "except:\n",
    "    print (\"Unable to connect: \", ibm_db.conn_errormsg() )\n"
   ]
  },
  {
   "cell_type": "code",
   "execution_count": 12,
   "id": "ffca9aa6-c27e-4674-960a-47c2d6be45d2",
   "metadata": {},
   "outputs": [
    {
     "name": "stderr",
     "output_type": "stream",
     "text": [
      "C:\\Users\\bilsk\\AppData\\Local\\Temp\\ipykernel_19856\\2373382735.py:5: UserWarning: pandas only supports SQLAlchemy connectable (engine/connection) or database string URI or sqlite3 DBAPI2 connection. Other DBAPI2 objects are not tested. Please consider using SQLAlchemy.\n",
      "  pdf = pandas.read_sql(selectQuery, pconn)\n"
     ]
    },
    {
     "data": {
      "text/plain": [
       "'Ahuja'"
      ]
     },
     "execution_count": 12,
     "metadata": {},
     "output_type": "execute_result"
    }
   ],
   "source": [
    "#query statement to retrieve all rows in INSTRUCTOR table\n",
    "selectQuery = \"select * from INSTRUCTOR\"\n",
    "\n",
    "#retrieve the query results into a pandas dataframe\n",
    "pdf = pandas.read_sql(selectQuery, pconn)\n",
    "\n",
    "#print just the LNAME for first row in the pandas data frame\n",
    "pdf.LNAME[0]"
   ]
  },
  {
   "cell_type": "code",
   "execution_count": 16,
   "id": "70f01345-58d7-456a-8bcf-e8776a4f075b",
   "metadata": {},
   "outputs": [
    {
     "ename": "Exception",
     "evalue": "Connection is not active",
     "output_type": "error",
     "traceback": [
      "\u001b[1;31m---------------------------------------------------------------------------\u001b[0m",
      "\u001b[1;31mException\u001b[0m                                 Traceback (most recent call last)",
      "Cell \u001b[1;32mIn[16], line 1\u001b[0m\n\u001b[1;32m----> 1\u001b[0m \u001b[43mibm_db\u001b[49m\u001b[38;5;241;43m.\u001b[39;49m\u001b[43mclose\u001b[49m\u001b[43m(\u001b[49m\u001b[43mconn\u001b[49m\u001b[43m)\u001b[49m\n",
      "\u001b[1;31mException\u001b[0m: Connection is not active"
     ]
    }
   ],
   "source": [
    "ibm_db.close(conn)"
   ]
  },
  {
   "cell_type": "markdown",
   "id": "7fb5998b-dd9b-42a0-9371-d6fc010c6e12",
   "metadata": {},
   "source": [
    "# Exercise 1 - Joins"
   ]
  },
  {
   "cell_type": "markdown",
   "id": "3e0feaad-a066-442c-a89f-5cad251824db",
   "metadata": {
    "jp-MarkdownHeadingCollapsed": true,
    "tags": []
   },
   "source": [
    "## Question 1-1 \n",
    "Write and execute a SQL query to list the school names, community names and average attendance for communities with a hardship index of 98."
   ]
  },
  {
   "cell_type": "markdown",
   "id": "7e590d49-c7fa-43b8-a97f-d3f085e9a8be",
   "metadata": {
    "tags": []
   },
   "source": [
    "## Question 2-2\n",
    "Write and execute a SQL query to list all crimes that took place at a school. Include case number, crime type and community name."
   ]
  },
  {
   "cell_type": "markdown",
   "id": "bf2d4a81-e3c6-4581-8982-202d49ead82c",
   "metadata": {},
   "source": [
    "![title](https://user-images.githubusercontent.com/7065401/52071927-c1cd7100-2562-11e9-908a-dde91ba14e59.png)"
   ]
  },
  {
   "cell_type": "markdown",
   "id": "75c04bb0-7080-47b9-b242-787ef8232a8d",
   "metadata": {},
   "source": [
    "# Exercise 2 - Creating view"
   ]
  },
  {
   "cell_type": "markdown",
   "id": "ea870609-62f9-48c7-b65d-ba94b9026eb0",
   "metadata": {
    "tags": []
   },
   "source": [
    "## Question 2-1 \n",
    "Write and execute a SQL statement to create a view showing the columns listed in the following table, with new column names as shown in the second column.\n",
    "\n",
    "Write and execute a SQL statement that returns all of the columns from the view.\n",
    "\n",
    "Write and execute a SQL statement that returns just the school name and leaders rating from the view."
   ]
  },
  {
   "cell_type": "markdown",
   "id": "18181e39-6ce3-4312-adee-a32713936d42",
   "metadata": {},
   "source": [
    "![title](https://user-images.githubusercontent.com/7065401/52071927-c1cd7100-2562-11e9-908a-dde91ba14e59.png)"
   ]
  },
  {
   "cell_type": "markdown",
   "id": "17af745d-360d-458b-98af-6ed8dd35db6e",
   "metadata": {},
   "source": [
    "# Exercise 3 - Creating a Stored Procedure"
   ]
  },
  {
   "cell_type": "markdown",
   "id": "2ee811d5-9ad2-481e-abdc-20dce8912bc3",
   "metadata": {
    "tags": []
   },
   "source": [
    "## Question 3-1 \n",
    "Write the structure of a query to create or replace a stored procedure called UPDATE_LEADERS_SCORE that takes a in_School_ID parameter as an integer and a in_Leader_Score parameter as an integer. Don’t forget to use the #SET TERMINATOR statement to use the @ for the CREATE statement terminator."
   ]
  },
  {
   "cell_type": "markdown",
   "id": "2b5cb299-193a-49d0-8ece-de64a17e155e",
   "metadata": {
    "tags": []
   },
   "source": [
    "## Question 3-2 \n",
    "Inside your stored procedure, write a SQL statement to update the Leaders_Score field in the CHICAGO_PUBLIC_SCHOOLS table for the school identified by in_School_ID to the value in the in_Leader_Score parameter."
   ]
  },
  {
   "cell_type": "markdown",
   "id": "07d9b018-ad32-4ef9-8f60-f6b816528141",
   "metadata": {
    "tags": []
   },
   "source": [
    "## Question 3-3 \n",
    "Inside your stored procedure, write a SQL IF statement to update the Leaders_Icon field in the CHICAGO_PUBLIC_SCHOOLS table for the school identified by in_School_ID using the following information."
   ]
  },
  {
   "cell_type": "markdown",
   "id": "b9cc0eb0-c906-4d5e-a913-9c0238e192a4",
   "metadata": {
    "tags": []
   },
   "source": [
    "## Question 4-3 \n",
    "Run your code to create the stored procedure.<br>\n",
    "Take a screenshot showing the SQL query and its results.<br>\n",
    "Write a query to call the stored procedure, passing a valid school ID and a leader score of 50, to check that the procedure works as expected."
   ]
  },
  {
   "cell_type": "markdown",
   "id": "8ebc38b7-3778-4c57-8e23-c1ce4ba91aee",
   "metadata": {},
   "source": [
    "![title](https://user-images.githubusercontent.com/7065401/52071927-c1cd7100-2562-11e9-908a-dde91ba14e59.png)"
   ]
  },
  {
   "cell_type": "markdown",
   "id": "9dbc6c83-2de7-4adc-bb71-16c35835218c",
   "metadata": {},
   "source": [
    "# Exercise 4 - Using Transacions"
   ]
  },
  {
   "cell_type": "markdown",
   "id": "ddb01584-cd4b-49db-826f-0f6ba15cb3fe",
   "metadata": {
    "tags": []
   },
   "source": [
    "## Question 4-1 \n",
    "Update your stored procedure definition. Add a generic ELSE clause to the IF statement that rolls back the current work if the score did not fit any of the preceding categories."
   ]
  },
  {
   "cell_type": "markdown",
   "id": "f590bde8-0155-467f-bae3-7ef65cf14fac",
   "metadata": {
    "tags": []
   },
   "source": [
    "## Question 4-2 \n",
    "Update your stored procedure definition again. Add a statement to commit the current unit of work at the end of the procedure.<br>\n",
    "Run your code to replace the stored procedure.<br>\n",
    "Write and run one query to check that the updated stored procedure works as expected when you use a valid score of 38.<br>\n",
    "Write and run another query to check that the updated stored procedure works as expected when you use an invalid score of 101.<br>"
   ]
  },
  {
   "cell_type": "code",
   "execution_count": null,
   "id": "9ae0cf60-aed8-4708-b904-b9d33ad8106d",
   "metadata": {},
   "outputs": [],
   "source": [
    "\n"
   ]
  }
 ],
 "metadata": {
  "kernelspec": {
   "display_name": "Miniconda_coursera_ds_01",
   "language": "python",
   "name": "miniconda_coursera_ds_01"
  },
  "language_info": {
   "codemirror_mode": {
    "name": "ipython",
    "version": 3
   },
   "file_extension": ".py",
   "mimetype": "text/x-python",
   "name": "python",
   "nbconvert_exporter": "python",
   "pygments_lexer": "ipython3",
   "version": "3.10.9"
  }
 },
 "nbformat": 4,
 "nbformat_minor": 5
}
