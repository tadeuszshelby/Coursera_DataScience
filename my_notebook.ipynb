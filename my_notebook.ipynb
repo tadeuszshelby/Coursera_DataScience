{
 "cells": [
  {
   "cell_type": "markdown",
   "id": "e52ec8d3-be0c-42f5-9a48-582da6bb1a6b",
   "metadata": {
    "tags": []
   },
   "source": [
    "<a href=\"https://dataplatform.cloud.ibm.com/gallery\">IBM Cloud Gallery</a> \n",
    "# [Link markdown - cheatsheet](https://github.com/adam-p/markdown-here/wiki/Markdown-Cheatsheet)\n",
    "You can also use Markdown formatting. For example, to use an H1 Header to write a title, try running the following in a Markdown cell: # Header 1. You can find more rules for Markdown formatting in this Markdown Cheatsheet: https://github.com/adam-p/markdown-here/wiki/Markdown-Cheatsheet\n",
    "\n",
    "There are thousands of interesting Jupyter Notebooks available on the internet for you to learn from. One of the best sources is: https://github.com/jupyter/jupyter/wiki\n",
    "\n",
    "\n",
    "Assigment 1\n",
    "| header | header | header |\n",
    "| ------ | ------ | ------ |\n",
    "| cell | cell | cell |\n",
    "| cell | cell | cell |\n",
    "| cell | cell | cell |\n",
    "| cell | cell | cell |"
   ]
  },
  {
   "cell_type": "code",
   "execution_count": null,
   "id": "c78db4d0-517a-4ab3-9243-0cf66ebfec7d",
   "metadata": {},
   "outputs": [],
   "source": []
  }
 ],
 "metadata": {
  "kernelspec": {
   "display_name": "Python 3 (ipykernel)",
   "language": "python",
   "name": "python3"
  },
  "language_info": {
   "codemirror_mode": {
    "name": "ipython",
    "version": 3
   },
   "file_extension": ".py",
   "mimetype": "text/x-python",
   "name": "python",
   "nbconvert_exporter": "python",
   "pygments_lexer": "ipython3",
   "version": "3.10.5"
  }
 },
 "nbformat": 4,
 "nbformat_minor": 5
}
