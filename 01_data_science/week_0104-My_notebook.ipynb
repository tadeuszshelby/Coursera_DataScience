{
 "cells": [
  {
   "cell_type": "markdown",
   "id": "d0275330-138f-4f4e-9fa1-bb4dfc3c7359",
   "metadata": {},
   "source": [
    "#### <font color=#0fb503>Exercise 2 - Create a markdown cell with the title of the notebook. (1 pt)</font>\n",
    "\n",
    "# Peer-graded assigment about tools for data science"
   ]
  },
  {
   "cell_type": "markdown",
   "id": "4ee3dab2-4938-48f1-b628-7b209ad16956",
   "metadata": {},
   "source": [
    "#### <font color=#0fb503>Exercise 3 - Create a markdown cell for an introduction. (1 pt)</font>\n",
    "## Introduction\n",
    "\n",
    "Welcome to this Jupyter Notebook! In this notebook, we will be exploring various programming concepts in Python, including data analysis, visualization, and machine learning.\n",
    "\n",
    "Whether you're new to programming or an experienced developer, this notebook will provide you with hands-on experience writing Python code in a Jupyter Notebook environment.\n",
    "\n",
    "We'll start with the basics of Python programming, including variables, data types, and control structures, and gradually build up to more advanced topics such as machine learning algorithms and model evaluation.\n",
    "\n",
    "So sit back, relax, and get ready to dive into the exciting world of Python programming!"
   ]
  },
  {
   "cell_type": "markdown",
   "id": "8cdbd276-6813-49a3-841a-ebf87c8c531c",
   "metadata": {
    "tags": []
   },
   "source": [
    "#### <font color=#0fb503>Exercise 4 - Create a markdown cell to list data science languages. (3 pts)</font>\n",
    "List data science languages: \n",
    "1. Python\n",
    "2. SQL (Structured Query Language)\n",
    "3. R \n",
    "4. Julia\n",
    "5. C++\n",
    "6. Scala\n",
    "7. Java"
   ]
  },
  {
   "cell_type": "markdown",
   "id": "589c7588-5974-4aa9-bb8c-0ba2c2c069de",
   "metadata": {
    "tags": []
   },
   "source": [
    "#### <font color=#0fb503>Exercise 5 - Create a markdown cell to list data science libraries. (3 pts)</font>\n",
    "Top 10 Python Libraries for Data Science:\n",
    "1. TensorFlow\n",
    "2. NumPy\n",
    "3. SciPy \n",
    "4. Pandas\n",
    "5. Matplotlib \n",
    "6. Keras\n",
    "7. SciKit-Learn\n",
    "8. PyTorch\n",
    "9. Scrapy\n",
    "10. BeautifulSoup"
   ]
  },
  {
   "cell_type": "markdown",
   "id": "9695a0b6-563d-41ec-a319-e4bf9403946d",
   "metadata": {
    "jp-MarkdownHeadingCollapsed": true,
    "tags": []
   },
   "source": [
    "#### <font color=#0fb503>Exercise 6 - Create a markdown cell with a table of Data Science tools. (3 pts)</font>\n",
    "Index |Category|Data Science Tool\n",
    ":-----|:-----| :----- \n",
    "1.|Data Management|MySQL\n",
    "2.|Data Management|MongoDB\n",
    "3.|Data Management|Hadoop\n",
    "4.|Data Management|PostgreSQL\n",
    "5.|Data Integration and Transformation|Apache Airflow\n",
    "6.|Data Integration and Transformation|Apache kafka\n",
    "7.|Data Integration and Transformation|Spark\n",
    "8.|Data Integration and Transformation|Kubeflow\n",
    "9.|Data Visualization|Hue\n",
    "10.|Data Visualization|Kibana\n",
    "11.|Data Visualization|Superset\n",
    "12.|Data Visualization|Power BI\n",
    "13.|Data Visualization|Tableau\n",
    "14.|Data Visualization|Qlik\n",
    "15.|Model Deployment|PredicitionIO\n",
    "16.|Model Deployment|Seldon\n",
    "17.|Model Deployment|TensorFlow\n",
    "18.|Model Monitoring and Assessment|ModelDB\n",
    "19.|Model Monitoring and Assessment|Prometheus\n",
    "20.|Model Monitoring and Assessment|IBM AI Explainability 360\n",
    "21.|Code Asset Management|Github\n",
    "22.|Code Asset Management|Git\n",
    "23.|Code Asset Management|Bitbucket\n",
    "24.|Code Asset Management|GitLab\n",
    "25.|Data Asset Management|Apache Atlas\n",
    "26.|Data Asset Management|Kylo\n",
    "27.|Data Integretion and Transformation|Talend\n",
    "28.|Data Integretion and Transformation|Informatica\n",
    "29.|Data Integretion and Transformation|IBM InfoSphere DataStage\n",
    "30.|Model Building|SPSS\n",
    "31.|Model Building|SAS"
   ]
  },
  {
   "cell_type": "markdown",
   "id": "a1019a1c-08f0-40ca-bd69-5cbec6eff136",
   "metadata": {
    "tags": []
   },
   "source": [
    "#### <font color=#0fb503>Exercise 7 - Create a markdown cell introducing arithmetic expression examples. (1 pt)</font>"
   ]
  },
  {
   "cell_type": "code",
   "execution_count": 3,
   "id": "c220d307-fd49-4cd2-b69f-136bbfa9a505",
   "metadata": {},
   "outputs": [
    {
     "name": "stdout",
     "output_type": "stream",
     "text": [
      "Sum:  9\n",
      "Subtraction:  5\n",
      "Multiplication:  14\n",
      "Division:  3.5\n",
      "Floor Division:  3\n",
      "Modulo:  1\n",
      "Power:  49\n"
     ]
    }
   ],
   "source": [
    "a = 7\n",
    "b = 2\n",
    "\n",
    "# addition\n",
    "print ('Sum: ', a + b)  \n",
    "\n",
    "# subtraction\n",
    "print ('Subtraction: ', a - b)   \n",
    "\n",
    "# multiplication\n",
    "print ('Multiplication: ', a * b)  \n",
    "\n",
    "# division\n",
    "print ('Division: ', a / b) \n",
    "\n",
    "# floor division\n",
    "print ('Floor Division: ', a // b)\n",
    "\n",
    "# modulo\n",
    "print ('Modulo: ', a % b)  \n",
    "\n",
    "# a to the power b\n",
    "print ('Power: ', a ** b)   "
   ]
  },
  {
   "cell_type": "markdown",
   "id": "60b49bb0-9e22-4f07-9aea-225aa03aa136",
   "metadata": {
    "tags": []
   },
   "source": [
    "#### <font color=#0fb503>Exercise 8 - Create a code cell to multiply and add numbers.(2 pts)</font>"
   ]
  },
  {
   "cell_type": "code",
   "execution_count": 4,
   "id": "f5798732-ba79-45a5-b8c8-396175e51b93",
   "metadata": {},
   "outputs": [
    {
     "name": "stdout",
     "output_type": "stream",
     "text": [
      "Result of multiplication: 100\n",
      "Result of addition: 17\n"
     ]
    }
   ],
   "source": [
    "a = 5\n",
    "b = 10\n",
    "c = 2\n",
    "\n",
    "# Multiplication\n",
    "result_mult = a * b * c\n",
    "print(\"Result of multiplication:\", result_mult)\n",
    "\n",
    "# Addition\n",
    "result_add = a + b + c\n",
    "print(\"Result of addition:\", result_add)"
   ]
  },
  {
   "cell_type": "markdown",
   "id": "3fe3c80c-e1bc-4925-903b-5490a042d463",
   "metadata": {
    "tags": []
   },
   "source": [
    "#### <font color=#0fb503>Exercise 9 - Create a code cell to convert minutes to hours. (2 pts)</font>"
   ]
  },
  {
   "cell_type": "code",
   "execution_count": 5,
   "id": "8bfa1386-fe06-4597-9341-6351548122e4",
   "metadata": {},
   "outputs": [
    {
     "name": "stdout",
     "output_type": "stream",
     "text": [
      "120 minutes is equal to 2.0 hours\n"
     ]
    }
   ],
   "source": [
    "minutes = 120\n",
    "\n",
    "hours = minutes / 60\n",
    "\n",
    "print(minutes, \"minutes is equal to\", hours, \"hours\")"
   ]
  },
  {
   "cell_type": "markdown",
   "id": "76c553bf-01de-44f5-8bd2-dcac66a78bed",
   "metadata": {
    "tags": []
   },
   "source": [
    "#### <font color=#0fb503>Exercise 10 - Insert a markdown cell to list Objectives. (3 pts)</font>"
   ]
  },
  {
   "cell_type": "markdown",
   "id": "b693ce15-dd42-4d82-80cd-149d63652cb8",
   "metadata": {},
   "source": [
    "- Learn how to use Jupyter Notebook\n",
    "- Understand basic programming concepts in Python\n",
    "- Practice writing Python code in Jupyter Notebook\n",
    "- Explore data analysis techniques in Python\n",
    "- Create visualizations using Python libraries such as Matplotlib\n",
    "- Gain familiarity with machine learning concepts and techniques\n",
    "- Apply machine learning algorithms to real-world datasets\n",
    "- Evaluate and interpret machine learning model results\n",
    "- Share and collaborate on Jupyter Notebook projects with others."
   ]
  },
  {
   "cell_type": "markdown",
   "id": "a822d08b-fd2e-4c35-948b-4a6a421b9e5c",
   "metadata": {
    "tags": []
   },
   "source": [
    "#### <font color=#0fb503>Exercise 11 - Create a markdown cell to indicate the Author’s name. (2 pts)</font>"
   ]
  },
  {
   "cell_type": "markdown",
   "id": "6badc2e3-8304-46ab-a071-ebb9470f052f",
   "metadata": {},
   "source": [
    "Author: Krzysztof B."
   ]
  },
  {
   "cell_type": "markdown",
   "id": "73bc800d-4d42-429b-946f-74b9296d8e72",
   "metadata": {
    "tags": []
   },
   "source": [
    "#### <font color=#0fb503>Exercise 12 - Share your notebook through GitHub </font>"
   ]
  },
  {
   "cell_type": "markdown",
   "id": "826234fd-850d-419f-b3ce-b1eb3bb36204",
   "metadata": {
    "tags": []
   },
   "source": [
    "#### <font color=#0fb503>Exercise 13 - Take a screenshot of the first page of the notebook.</font>"
   ]
  }
 ],
 "metadata": {
  "kernelspec": {
   "display_name": "Python 3 (ipykernel)",
   "language": "python",
   "name": "python3"
  },
  "language_info": {
   "codemirror_mode": {
    "name": "ipython",
    "version": 3
   },
   "file_extension": ".py",
   "mimetype": "text/x-python",
   "name": "python",
   "nbconvert_exporter": "python",
   "pygments_lexer": "ipython3",
   "version": "3.9.12"
  }
 },
 "nbformat": 4,
 "nbformat_minor": 5
}
